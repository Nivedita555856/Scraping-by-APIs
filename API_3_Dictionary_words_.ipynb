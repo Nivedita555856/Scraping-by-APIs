{
  "nbformat": 4,
  "nbformat_minor": 0,
  "metadata": {
    "colab": {
      "provenance": []
    },
    "kernelspec": {
      "name": "python3",
      "display_name": "Python 3"
    },
    "language_info": {
      "name": "python"
    }
  },
  "cells": [
    {
      "cell_type": "code",
      "source": [
        "import requests\n",
        "\n",
        "def dictionary_app():\n",
        "    # User input for the word to search\n",
        "    word = input(\"Enter a word to search for its meaning: \").lower()\n",
        "\n",
        "    # API request\n",
        "    url = f\"https://api.dictionaryapi.dev/api/v2/entries/en/{word}\"\n",
        "    response = requests.get(url)\n",
        "\n",
        "    if response.status_code == 200:\n",
        "        data = response.json()\n",
        "\n",
        "        # Check if the word has meanings\n",
        "        if isinstance(data, list) and len(data) > 0 and 'meanings' in data[0]:\n",
        "            print(f\"\\nDefinitions for '{word}':\")\n",
        "            for index, meaning in enumerate(data[0]['meanings'], 1):\n",
        "                print(f\"{index}. {meaning['partOfSpeech'].capitalize()}: {meaning['definitions'][0]['definition']}\")\n",
        "        else:\n",
        "            print(f\"Error: No meanings found for '{word}'. The word may not exist in the dictionary.\")\n",
        "    else:\n",
        "        print(f\"Error {response.status_code}: Unable to fetch data. Please check the word or try again later.\")\n",
        "\n",
        "# Run the app\n",
        "if __name__ == \"__main__\":\n",
        "    dictionary_app()\n"
      ],
      "metadata": {
        "colab": {
          "base_uri": "https://localhost:8080/"
        },
        "id": "PFFpgAEYLbyY",
        "outputId": "82bca0e4-42c1-4c08-d37b-6b3697652e7c"
      },
      "execution_count": 21,
      "outputs": [
        {
          "output_type": "stream",
          "name": "stdout",
          "text": [
            "Enter a word to search for its meaning: lust\n",
            "\n",
            "Definitions for 'lust':\n",
            "1. Noun: A feeling of strong desire, especially such a feeling driven by sexual arousal.\n",
            "2. Verb: (usually in the phrase \"lust after\") To look at or watch with a strong desire, especially of a sexual nature.\n"
          ]
        }
      ]
    }
  ]
}