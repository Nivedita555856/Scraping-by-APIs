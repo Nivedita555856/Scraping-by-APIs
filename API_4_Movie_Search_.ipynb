{
  "nbformat": 4,
  "nbformat_minor": 0,
  "metadata": {
    "colab": {
      "provenance": []
    },
    "kernelspec": {
      "name": "python3",
      "display_name": "Python 3"
    },
    "language_info": {
      "name": "python"
    }
  },
  "cells": [
    {
      "cell_type": "code",
      "source": [
        "import requests\n",
        "\n",
        "def movie_search_app():\n",
        "    # Replace with your OMDb API key\n",
        "    api_key = \"dd0530e1\"\n",
        "\n",
        "    # User input for the movie title\n",
        "    movie_title = input(\"Enter the movie title: \").strip()\n",
        "\n",
        "    # API request\n",
        "    url = f\"http://www.omdbapi.com/?t={movie_title}&apikey={api_key}\"\n",
        "    response = requests.get(url)\n",
        "\n",
        "    if response.status_code == 200:\n",
        "        data = response.json()\n",
        "\n",
        "        # Check if movie data is available\n",
        "        if data.get('Response') == 'True':\n",
        "            print(f\"\\nMovie: {data['Title']}\")\n",
        "            print(f\"Year: {data['Year']}\")\n",
        "            print(f\"Genre: {data['Genre']}\")\n",
        "            print(f\"Director: {data['Director']}\")\n",
        "            print(f\"Actors: {data['Actors']}\")\n",
        "            print(f\"Plot: {data['Plot']}\")\n",
        "            print(f\"IMDB Rating: {data['imdbRating']}\")\n",
        "        else:\n",
        "            print(f\"Error: {data.get('Error', 'Movie not found')}\")\n",
        "    else:\n",
        "        print(f\"Error {response.status_code}: Unable to fetch data. Please try again later.\")\n",
        "\n",
        "# Run the app\n",
        "if __name__ == \"__main__\":\n",
        "    movie_search_app()\n"
      ],
      "metadata": {
        "colab": {
          "base_uri": "https://localhost:8080/"
        },
        "id": "PFFpgAEYLbyY",
        "outputId": "a53bf936-0bea-4adc-fc01-70f3579f2ea7"
      },
      "execution_count": 25,
      "outputs": [
        {
          "output_type": "stream",
          "name": "stdout",
          "text": [
            "Enter the movie title: Titanic\n",
            "\n",
            "Movie: Titanic\n",
            "Year: 1997\n",
            "Genre: Drama, Romance\n",
            "Director: James Cameron\n",
            "Actors: Leonardo DiCaprio, Kate Winslet, Billy Zane\n",
            "Plot: A seventeen-year-old aristocrat falls in love with a kind but poor artist aboard the luxurious, ill-fated R.M.S. Titanic.\n",
            "IMDB Rating: 7.9\n"
          ]
        }
      ]
    }
  ]
}