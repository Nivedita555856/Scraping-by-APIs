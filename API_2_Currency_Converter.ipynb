{
  "nbformat": 4,
  "nbformat_minor": 0,
  "metadata": {
    "colab": {
      "provenance": []
    },
    "kernelspec": {
      "name": "python3",
      "display_name": "Python 3"
    },
    "language_info": {
      "name": "python"
    }
  },
  "cells": [
    {
      "cell_type": "code",
      "source": [
        "import requests\n",
        "\n",
        "def currency_converter():\n",
        "    # Replace with your ExchangeRate-API key\n",
        "    api_key = \"d0e7afee88d853b49eb16724\"\n",
        "    base_url = f\"https://v6.exchangerate-api.com/v6/{api_key}/latest/\"\n",
        "\n",
        "    # User input for currencies and amount\n",
        "    base_currency = input(\"Enter the base currency (e.g., USD): \").upper()\n",
        "    target_currency = input(\"Enter the target currency (e.g., EUR): \").upper()\n",
        "    amount = float(input(f\"Enter the amount in {base_currency}: \"))\n",
        "\n",
        "    # API request\n",
        "    response = requests.get(base_url + base_currency)\n",
        "\n",
        "    if response.status_code == 200:\n",
        "        data = response.json()\n",
        "\n",
        "        # Fetch exchange rate\n",
        "        if target_currency in data['conversion_rates']:\n",
        "            exchange_rate = data['conversion_rates'][target_currency]\n",
        "            converted_amount = amount * exchange_rate\n",
        "\n",
        "            print(f\"\\n{amount} {base_currency} is equal to {converted_amount:.2f} {target_currency}.\")\n",
        "            print(f\"Exchange Rate: 1 {base_currency} = {exchange_rate:.2f} {target_currency}\")\n",
        "        else:\n",
        "            print(f\"Error: {target_currency} is not a valid currency code.\")\n",
        "    else:\n",
        "        print(f\"Error {response.status_code}: Unable to fetch exchange rates. Check your API key or base currency.\")\n",
        "\n",
        "# Run the app\n",
        "if __name__ == \"__main__\":\n",
        "    currency_converter()\n"
      ],
      "metadata": {
        "colab": {
          "base_uri": "https://localhost:8080/"
        },
        "id": "PFFpgAEYLbyY",
        "outputId": "c2350152-812e-43fe-f35e-f3d8cf5348a0"
      },
      "execution_count": 6,
      "outputs": [
        {
          "output_type": "stream",
          "name": "stdout",
          "text": [
            "Enter the base currency (e.g., USD): AED\n",
            "Enter the target currency (e.g., EUR): INR\n",
            "Enter the amount in AED: 4444\n",
            "\n",
            "4444.0 AED is equal to 104735.30 INR.\n",
            "Exchange Rate: 1 AED = 23.57 INR\n"
          ]
        }
      ]
    }
  ]
}