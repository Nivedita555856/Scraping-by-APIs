{
  "nbformat": 4,
  "nbformat_minor": 0,
  "metadata": {
    "colab": {
      "provenance": []
    },
    "kernelspec": {
      "name": "python3",
      "display_name": "Python 3"
    },
    "language_info": {
      "name": "python"
    }
  },
  "cells": [
    {
      "cell_type": "code",
      "execution_count": 9,
      "metadata": {
        "colab": {
          "base_uri": "https://localhost:8080/"
        },
        "id": "3Mp6uY15Jkbv",
        "outputId": "9a6ca60b-9fde-4bb8-a828-0155f970ec4a"
      },
      "outputs": [
        {
          "output_type": "stream",
          "name": "stdout",
          "text": [
            "Requirement already satisfied: requests in /usr/local/lib/python3.11/dist-packages (2.32.3)\n",
            "Requirement already satisfied: geopy in /usr/local/lib/python3.11/dist-packages (2.4.1)\n",
            "Requirement already satisfied: charset-normalizer<4,>=2 in /usr/local/lib/python3.11/dist-packages (from requests) (3.4.1)\n",
            "Requirement already satisfied: idna<4,>=2.5 in /usr/local/lib/python3.11/dist-packages (from requests) (3.10)\n",
            "Requirement already satisfied: urllib3<3,>=1.21.1 in /usr/local/lib/python3.11/dist-packages (from requests) (2.3.0)\n",
            "Requirement already satisfied: certifi>=2017.4.17 in /usr/local/lib/python3.11/dist-packages (from requests) (2024.12.14)\n",
            "Requirement already satisfied: geographiclib<3,>=1.52 in /usr/local/lib/python3.11/dist-packages (from geopy) (2.0)\n"
          ]
        }
      ],
      "source": [
        "!pip install requests geopy"
      ]
    },
    {
      "cell_type": "code",
      "source": [
        "import requests\n",
        "from geopy.geocoders import Nominatim\n",
        "\n",
        "def get_weather():\n",
        "    # OpenWeatherMap API Key\n",
        "    api_key = \"c8c78af6e43bcb9c6c1a48170408ef8d\"  # Replace with your actual API key\n",
        "\n",
        "    # Get user's city name (or provide directly)\n",
        "    geolocator = Nominatim(user_agent=\"weather_app\")\n",
        "    city = input(\"Enter your city name: \")\n",
        "    location = geolocator.geocode(city)\n",
        "\n",
        "    if location:\n",
        "        lat, lon = location.latitude, location.longitude\n",
        "        print(f\"City: {city} (Lat: {lat}, Lon: {lon})\")\n",
        "\n",
        "        # OpenWeatherMap API request\n",
        "        url = f\"http://api.openweathermap.org/data/2.5/weather?lat={lat}&lon={lon}&appid={api_key}&units=metric\"\n",
        "        response = requests.get(url)\n",
        "\n",
        "        if response.status_code == 200:\n",
        "            data = response.json()\n",
        "            # Parse weather details\n",
        "            city_name = data['name']\n",
        "            country = data['sys']['country']\n",
        "            temp = data['main']['temp']\n",
        "            weather = data['weather'][0]['description']\n",
        "            humidity = data['main']['humidity']\n",
        "            wind_speed = data['wind']['speed']\n",
        "\n",
        "            print(f\"\\nWeather in {city_name}, {country}:\")\n",
        "            print(f\"Temperature: {temp}°C\")\n",
        "            print(f\"Condition: {weather.capitalize()}\")\n",
        "            print(f\"Humidity: {humidity}%\")\n",
        "            print(f\"Wind Speed: {wind_speed} m/s\")\n",
        "        else:\n",
        "            print(f\"Error {response.status_code}: Unable to fetch weather data.\")\n",
        "    else:\n",
        "        print(\"City not found! Please try again.\")\n",
        "\n",
        "# Run the app\n",
        "if __name__ == \"__main__\":\n",
        "    get_weather()\n"
      ],
      "metadata": {
        "colab": {
          "base_uri": "https://localhost:8080/"
        },
        "id": "Te8tdOohMUQZ",
        "outputId": "32ccf413-6892-47a0-db89-aed31984c45e"
      },
      "execution_count": 12,
      "outputs": [
        {
          "output_type": "stream",
          "name": "stdout",
          "text": [
            "Enter your city name: Mumbai\n",
            "City: Mumbai (Lat: 19.054999, Lon: 72.8692035)\n",
            "\n",
            "Weather in Konkan Division, IN:\n",
            "Temperature: 27.02°C\n",
            "Condition: Smoke\n",
            "Humidity: 57%\n",
            "Wind Speed: 2.06 m/s\n"
          ]
        }
      ]
    }
  ]
}